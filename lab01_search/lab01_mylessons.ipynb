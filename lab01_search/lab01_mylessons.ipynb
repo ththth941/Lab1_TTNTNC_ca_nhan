{
  "nbformat": 4,
  "nbformat_minor": 0,
  "metadata": {
    "colab": {
      "provenance": []
    },
    "kernelspec": {
      "name": "python3",
      "display_name": "Python 3"
    },
    "language_info": {
      "name": "python"
    }
  },
  "cells": [
    {
      "cell_type": "markdown",
      "source": [
        "### Bài 1. Biễu diễn đồ thị"
      ],
      "metadata": {
        "id": "M1YaCDpCDNz6"
      }
    },
    {
      "cell_type": "markdown",
      "source": [
        "#### 1. Biễu diễn bằng danh sách / ma trận kề"
      ],
      "metadata": {
        "id": "rYEKj3d5Dq4_"
      }
    },
    {
      "cell_type": "code",
      "source": [
        "import pprint\n",
        "ADJ = {\n",
        "    'A': {'C', 'D', 'E', 'F'},\n",
        "    'B': (),\n",
        "    'C': {'H'},\n",
        "    'D': {'E', 'H'},\n",
        "    'E': {'I', 'K'},\n",
        "    'F': {'G', 'I'},\n",
        "    'G': (),\n",
        "    'H': {'K'},\n",
        "    'I': {'B', 'K'},\n",
        "    'K': {'B'}\n",
        "}\n",
        "\n",
        "pprint.pprint(ADJ)"
      ],
      "metadata": {
        "colab": {
          "base_uri": "https://localhost:8080/"
        },
        "id": "N9QLmtuV4FXP",
        "outputId": "3ff8e7bb-941c-4123-8cd8-564514a38396"
      },
      "execution_count": 2,
      "outputs": [
        {
          "output_type": "stream",
          "name": "stdout",
          "text": [
            "{'A': {'C', 'D', 'E', 'F'},\n",
            " 'B': (),\n",
            " 'C': {'H'},\n",
            " 'D': {'H', 'E'},\n",
            " 'E': {'K', 'I'},\n",
            " 'F': {'G', 'I'},\n",
            " 'G': (),\n",
            " 'H': {'K'},\n",
            " 'I': {'K', 'B'},\n",
            " 'K': {'B'}}\n"
          ]
        }
      ]
    },
    {
      "cell_type": "markdown",
      "source": [
        "#### 2. Thao tác duyệt đồ thị\n"
      ],
      "metadata": {
        "id": "aPsSZDhCEB74"
      }
    },
    {
      "cell_type": "markdown",
      "source": [
        "(a) Liệt kê các đỉnh trong đồ thị"
      ],
      "metadata": {
        "id": "yqVWGC0dEHDj"
      }
    },
    {
      "cell_type": "code",
      "source": [
        "print(\"(a) Liệt kê các đỉnh trong đồ thị\")\n",
        "print(\"Các đỉnh của đồ thị: \", end = \" \")\n",
        "vertices = list(ADJ.keys())\n",
        "print(', '.join(vertices))"
      ],
      "metadata": {
        "colab": {
          "base_uri": "https://localhost:8080/"
        },
        "id": "Ur9tWL96Ek3v",
        "outputId": "901f8d6b-11eb-491c-af9c-42edf1963282"
      },
      "execution_count": 4,
      "outputs": [
        {
          "output_type": "stream",
          "name": "stdout",
          "text": [
            "(a) Liệt kê các đỉnh trong đồ thị\n",
            "Các đỉnh của đồ thị:  A, B, C, D, E, F, G, H, I, K\n"
          ]
        }
      ]
    },
    {
      "cell_type": "markdown",
      "source": [
        "(b) Liệt kê tất cả các cạnh đồ thị hiển thị dạng danh sách kề"
      ],
      "metadata": {
        "id": "Qh4ksT3IEzJO"
      }
    },
    {
      "cell_type": "code",
      "source": [
        "print(\"(b) Liệt kê tất cả các cạnh đồ thị hiển thị dạng danh sách kề\")\n",
        "print(\"Danh sách kề của đồ thị: \")\n",
        "def HienThiDoThi(G):\n",
        "    for vertex in G:\n",
        "        neighbors = ', '.join(G[vertex]) + ','\n",
        "        print(f\"Đỉnh {vertex}: {neighbors}\")\n",
        "HienThiDoThi(ADJ)"
      ],
      "metadata": {
        "colab": {
          "base_uri": "https://localhost:8080/"
        },
        "id": "4YsuPC5VE2uR",
        "outputId": "25a65b37-18bb-4d92-c90c-831b3910d062"
      },
      "execution_count": 7,
      "outputs": [
        {
          "output_type": "stream",
          "name": "stdout",
          "text": [
            "(b) Liệt kê tất cả các cạnh đồ thị hiển thị dạng danh sách kề\n",
            "Danh sách kề của đồ thị: \n",
            "Đỉnh A: C, D, E, F,\n",
            "Đỉnh B: ,\n",
            "Đỉnh C: H,\n",
            "Đỉnh D: H, E,\n",
            "Đỉnh E: K, I,\n",
            "Đỉnh F: G, I,\n",
            "Đỉnh G: ,\n",
            "Đỉnh H: K,\n",
            "Đỉnh I: K, B,\n",
            "Đỉnh K: B,\n"
          ]
        }
      ]
    },
    {
      "cell_type": "markdown",
      "source": [
        "(c) Cho hai đỉnh A, B. Hỏi hai đỉnh A, B có kề nhau không?"
      ],
      "metadata": {
        "id": "g9pici5IFNKZ"
      }
    },
    {
      "cell_type": "code",
      "source": [
        "print(\"(c) Cho hai đỉnh A, B. Hỏi hai đỉnh A, B có kề nhau không?\")\n",
        "def LaKe(G, a, b):\n",
        "    \"\"\"\n",
        "    input: G, a, b\n",
        "    return:\n",
        "    + -1: dinh a, hay b khong ton tai\n",
        "    +  0: dinh a, b ton tai va a khong ke b\n",
        "    +  1: dinh a, b ton tai va a, b ke nhau\n",
        "    \"\"\"\n",
        "    result = None\n",
        "    # Kiem tra a va b co ton tai trong do thi\n",
        "    if a not in G or b not in G:\n",
        "        result = -1\n",
        "    else:\n",
        "        # Kiem tra b co nam trong tap ke cua a\n",
        "        if b in G[a]:\n",
        "            result = 1\n",
        "        else:\n",
        "            result = 0\n",
        "    return result\n",
        "# Kiem tra\n",
        "a = \"L\"; b = \"R\"; print(f\"{a} ke {b}: {LaKe(ADJ, a, b)}\")\n",
        "a = \"A\"; b = \"R\"; print(f\"{a} ke {b}: {LaKe(ADJ, a, b)}\")\n",
        "a = \"E\"; b = \"D\"; print(f\"{a} ke {b}: {LaKe(ADJ, a, b)}\")\n",
        "a = \"D\"; b = \"E\"; print(f\"{a} ke {b}: {LaKe(ADJ, a, b)}\")"
      ],
      "metadata": {
        "colab": {
          "base_uri": "https://localhost:8080/"
        },
        "id": "fniQhFAJFR05",
        "outputId": "597e4ea9-5bf5-417f-ee07-5999ef903899"
      },
      "execution_count": 10,
      "outputs": [
        {
          "output_type": "stream",
          "name": "stdout",
          "text": [
            "(c) Cho hai đỉnh A, B. Hỏi hai đỉnh A, B có kề nhau không?\n",
            "L ke R: -1\n",
            "A ke R: -1\n",
            "E ke D: 0\n",
            "D ke E: 1\n"
          ]
        }
      ]
    },
    {
      "cell_type": "markdown",
      "source": [
        "\n",
        "(d) Cho một đỉnh A. Hỏi danh sách các đỉnh kề với A ?"
      ],
      "metadata": {
        "id": "pGeN3TvzFPGN"
      }
    },
    {
      "cell_type": "code",
      "source": [
        "print(\"(d) Cho một đỉnh A. Hỏi danh sách các đỉnh kề với A\")\n",
        "def LayKe(G, a):\n",
        "    \"\"\"\n",
        "    input: G, a\n",
        "    return:\n",
        "    + None: neu a khong ton tai\n",
        "    + []  : a khong ke voi bat ky dinh nao\n",
        "    + [x, y, ...]: mang cac dinh ke voi a\n",
        "    \"\"\"\n",
        "    result = None\n",
        "    # Kiem tra a co ton tai trong do thi\n",
        "    if a not in G:\n",
        "        result = None\n",
        "    else:\n",
        "        # Lay danh sach cac dinh ke voi a\n",
        "        neighbors = list(G[a])\n",
        "        # Neu tap ke null\n",
        "        if not neighbors:\n",
        "            result = []\n",
        "        else:\n",
        "            result = neighbors\n",
        "    return result\n",
        "# Kiem tra\n",
        "a = \"P\"; print(f\"Danh sach ke voi dinh {a}: {LayKe(ADJ, a)}\")\n",
        "a = \"A\"; print(f\"Danh sach ke voi dinh {a}: {LayKe(ADJ, a)}\")\n",
        "a = \"B\"; print(f\"Danh sach ke voi dinh {a}: {LayKe(ADJ, a)}\")\n",
        "a = \"D\"; print(f\"Danh sach ke voi dinh {a}: {LayKe(ADJ, a)}\")"
      ],
      "metadata": {
        "colab": {
          "base_uri": "https://localhost:8080/"
        },
        "id": "nGQTeOoBF-2W",
        "outputId": "ff7ccb72-62e1-4cb4-e7ea-ee9666a7a296"
      },
      "execution_count": 14,
      "outputs": [
        {
          "output_type": "stream",
          "name": "stdout",
          "text": [
            "(d) Cho một đỉnh A. Hỏi danh sách các đỉnh kề với A\n",
            "Danh sach ke voi dinh P: None\n",
            "Danh sach ke voi dinh A: ['C', 'D', 'E', 'F']\n",
            "Danh sach ke voi dinh B: []\n",
            "Danh sach ke voi dinh D: ['H', 'E']\n"
          ]
        }
      ]
    },
    {
      "cell_type": "markdown",
      "source": [
        "#### 3. Đọc và lưu đồ thị\n",
        "**dske.txt**\n",
        "```\n",
        "10           # số đỉnh đồ thị\n",
        "A C E F D    # đỉnh A kề với C E F D\n",
        "B            # đỉnh B không kề với ai\n",
        "C H\n",
        "D E H\n",
        "E K I\n",
        "F I G\n",
        "G\n",
        "H K\n",
        "I K B\n",
        "K B\n",
        "```"
      ],
      "metadata": {
        "id": "KYOufQf9Ghyr"
      }
    },
    {
      "cell_type": "code",
      "execution_count": 18,
      "metadata": {
        "colab": {
          "base_uri": "https://localhost:8080/"
        },
        "id": "kotl6WjGylhc",
        "outputId": "c790d6a7-5a51-4b55-aac1-6fcd496a8a38"
      },
      "outputs": [
        {
          "output_type": "stream",
          "name": "stdout",
          "text": [
            "1. Lưu đồ thị xuống tập tin\n",
            "Luu do thi thanh cong xuong tap tin: dske1.txt\n",
            "10\n",
            "A C D E F\n",
            "B \n",
            "C H\n",
            "D E H\n",
            "E I K\n",
            "F G I\n",
            "G \n",
            "H K\n",
            "I B K\n",
            "K B\n"
          ]
        }
      ],
      "source": [
        "print(\"1. Lưu đồ thị xuống tập tin\")\n",
        "\n",
        "def LuuDoThi(G, file_path, verbose=True):\n",
        "    import os\n",
        "\n",
        "    # Tạo thư mục chứa file_path\n",
        "    file_dir = os.path.dirname(file_path)\n",
        "    if file_dir != \"\" and not os.path.exists(file_dir):\n",
        "        os.makedirs(file_dir)\n",
        "        if verbose: print(f\"+ Tao thu muc: {file_dir}\")\n",
        "\n",
        "    # Luu do thu\n",
        "    with open(file_path, \"wt\") as file:\n",
        "        # Ghi so luong dinh\n",
        "        num_vertices = len(G)\n",
        "        file.write(f\"{num_vertices}\\n\")\n",
        "\n",
        "        # Ghi danh sach ke cho tung dinh\n",
        "        for vertex in sorted(G.keys()):  # Sap xep thu tu theo bang chu cai\n",
        "            neighbors = \" \".join(sorted(G[vertex]))  # Sap xep cac dinh ke\n",
        "            file.write(f\"{vertex} {neighbors}\\n\")\n",
        "\n",
        "        if verbose: print(f\"Luu do thi thanh cong xuong tap tin: {file_path}\")\n",
        "\n",
        "# Goi ham\n",
        "LuuDoThi(ADJ, \"dske1.txt\", verbose=True)\n",
        "\n",
        "# Doc va in noi dung ra de kiem tra\n",
        "with open(\"dske1.txt\", \"rt\") as file:\n",
        "    lines = file.readlines()\n",
        "    for line in lines: print(line, end=\"\")"
      ]
    },
    {
      "cell_type": "code",
      "source": [
        "print(\"2. Đọc đồ thị từ tập tin\")\n",
        "import pprint\n",
        "\n",
        "def DocDoThi(file_path, verbose=True):\n",
        "    \"\"\"\n",
        "    return:\n",
        "    + None: doc that bai\n",
        "    + <>None: tra ve do thi\n",
        "    \"\"\"\n",
        "    import os\n",
        "\n",
        "    result = None\n",
        "    if not os.path.exists(file_path):\n",
        "        result = None\n",
        "    else:\n",
        "        G = {}\n",
        "        with open(file_path, \"rt\") as file:\n",
        "            n = int(file.readline().strip())  # Doc so luong dinh\n",
        "            for _ in range(n):\n",
        "                line = file.readline().strip().split()\n",
        "                if line:  # Neu dong khong null\n",
        "                    vertex = line[0]  # Dong dau tien la ten dinh\n",
        "                    if len(line) > 1:  # Neu co dinh ke\n",
        "                        neighbors = set(line[1:])  # Chuyen cac dinh ke thanh 1 tap hop\n",
        "                    else:              # Neu khong co dinh ke\n",
        "                        neighbors = set()\n",
        "                    G[vertex] = neighbors\n",
        "        result = G\n",
        "    if verbose and result is not None:\n",
        "        print(f\"Doc do thi thanh cong tu tap tin: {file_path}\")\n",
        "    return result\n",
        "\n",
        "# Goi ham de doc do thi\n",
        "G1 = DocDoThi(\"dske1.txt\", verbose=True)\n",
        "pprint.pprint(G1)"
      ],
      "metadata": {
        "colab": {
          "base_uri": "https://localhost:8080/"
        },
        "id": "jlYZowMH0JzF",
        "outputId": "c0237d4e-1ba6-4d89-b1b9-d6d124c7603e"
      },
      "execution_count": 19,
      "outputs": [
        {
          "output_type": "stream",
          "name": "stdout",
          "text": [
            "2. Đọc đồ thị từ tập tin\n",
            "Doc do thi thanh cong tu tap tin: dske1.txt\n",
            "{'A': {'C', 'D', 'E', 'F'},\n",
            " 'B': set(),\n",
            " 'C': {'H'},\n",
            " 'D': {'H', 'E'},\n",
            " 'E': {'K', 'I'},\n",
            " 'F': {'G', 'I'},\n",
            " 'G': set(),\n",
            " 'H': {'K'},\n",
            " 'I': {'K', 'B'},\n",
            " 'K': {'B'}}\n"
          ]
        }
      ]
    },
    {
      "cell_type": "markdown",
      "source": [
        "### Bài 2. Tìm kiếm đường đi trên đồ thị"
      ],
      "metadata": {
        "id": "lvoi8j-KIL5m"
      }
    },
    {
      "cell_type": "markdown",
      "source": [
        "#### 1. Tìm kiếm theo chiều rộng (BFS)"
      ],
      "metadata": {
        "id": "Ca5InilFIM5_"
      }
    },
    {
      "cell_type": "code",
      "source": [
        "import pprint\n",
        "def BFS(G, start, goal):\n",
        "    \"\"\"\n",
        "    return:\n",
        "    + mang chua duong di tu a --> b, neu rong la ko co duong di\n",
        "    + None: dinh a, b khong hop le\n",
        "    \"\"\"\n",
        "    result = None\n",
        "\n",
        "    if G.get(start) is None or G.get(goal) is None:\n",
        "        result = None\n",
        "    else:\n",
        "        path = {}  # path[a]=b nghia la muon di toi dinh b phai qua a\n",
        "        s_open = []\n",
        "        s_closed = []\n",
        "\n",
        "        # dua start vao open\n",
        "        s_open.append(start)\n",
        "        path[start] = None\n",
        "        while len(s_open) > 0:\n",
        "            # Lay dinh hien tai tu dau hang doi\n",
        "            current = s_open.pop(0)\n",
        "            s_closed.append(current)\n",
        "\n",
        "            # Kiem tra neu da den muc tieu\n",
        "            if current == goal:\n",
        "                break\n",
        "\n",
        "            # Duyet cac dinh ke cua current\n",
        "            for neighbor in G[current]:\n",
        "                if neighbor not in path:  # Neu chua tham dinh ke\n",
        "                    s_open.append(neighbor)\n",
        "                    path[neighbor] = current\n",
        "\n",
        "        # Xay dung lai duong di neu can\n",
        "        result = path\n",
        "\n",
        "    return result\n",
        "# Goi ham\n",
        "path = BFS(ADJ, \"A\", \"B\")\n",
        "pprint.pprint(path)"
      ],
      "metadata": {
        "colab": {
          "base_uri": "https://localhost:8080/"
        },
        "id": "9PAh-mPO27cr",
        "outputId": "15eb936c-2382-4ba9-8deb-2685ed1cd696"
      },
      "execution_count": 21,
      "outputs": [
        {
          "output_type": "stream",
          "name": "stdout",
          "text": [
            "{'A': None,\n",
            " 'B': 'K',\n",
            " 'C': 'A',\n",
            " 'D': 'A',\n",
            " 'E': 'A',\n",
            " 'F': 'A',\n",
            " 'G': 'F',\n",
            " 'H': 'C',\n",
            " 'I': 'E',\n",
            " 'K': 'E'}\n"
          ]
        }
      ]
    },
    {
      "cell_type": "code",
      "source": [
        "def find_path(path, start, goal):\n",
        "    \"\"\"\n",
        "    Cho mang truy hoi duong, tim ds dinh tu start --> goal\n",
        "    \"\"\"\n",
        "    result = []\n",
        "\n",
        "    # Neu path la null hoac goal khong nam trong path thi path khong ton tai\n",
        "    if path is None or goal not in path:\n",
        "        return result\n",
        "\n",
        "    # Backtrack di nguoc tu goal den start\n",
        "    current = goal\n",
        "    while current is not None:\n",
        "        result.append(current)\n",
        "        current = path[current]\n",
        "\n",
        "    # dao nguoc de lay path tu start den goal\n",
        "    result.reverse()\n",
        "\n",
        "    # kiem tra xem path co bat dau bang start node\n",
        "    if result and result[0] == start:\n",
        "        return result\n",
        "    return []\n",
        "\n",
        "find_path(path, 'A', 'B')"
      ],
      "metadata": {
        "colab": {
          "base_uri": "https://localhost:8080/"
        },
        "id": "jJaAG-gPJUGa",
        "outputId": "e2a71ab3-b0c8-448f-f73a-2c5df4d93985"
      },
      "execution_count": 23,
      "outputs": [
        {
          "output_type": "execute_result",
          "data": {
            "text/plain": [
              "['A', 'E', 'K', 'B']"
            ]
          },
          "metadata": {},
          "execution_count": 23
        }
      ]
    },
    {
      "cell_type": "markdown",
      "source": [
        "#### 2. Tìm kiếm theo chiều rộng (DFS)"
      ],
      "metadata": {
        "id": "khqB3uPdKI1R"
      }
    },
    {
      "cell_type": "code",
      "source": [
        "import pprint\n",
        "\n",
        "def DFS(G, start, goal):\n",
        "    \"\"\"\n",
        "    return:\n",
        "    + mang chua duong di tu a --> b, neu rong la ko co duong di\n",
        "    + None: dinh a, b khong hop le\n",
        "    \"\"\"\n",
        "    result = None\n",
        "\n",
        "    if G.get(start) is None or G.get(goal) is None:\n",
        "        result = None\n",
        "    else:\n",
        "        path = {}     # path[a]=b nghia la muon di toi dinh b phai qua a\n",
        "        s_open   = []\n",
        "        s_closed = []\n",
        "\n",
        "        # đưa start vào open\n",
        "        s_open.append(start)\n",
        "        path[start] = None\n",
        "        while len(s_open) > 0:\n",
        "            # Lay dinh hien tai tu cuoi stack (DFS dung LIFO)\n",
        "            current = s_open.pop()\n",
        "\n",
        "            # Them dinh hien tai vao danh sach da tham\n",
        "            if current not in s_closed:\n",
        "                s_closed.append(current)\n",
        "\n",
        "                # Nếu tim thay goal, dung lai\n",
        "                if current == goal:\n",
        "                    break\n",
        "\n",
        "                # Duyet cac dinh ke cua current\n",
        "                for neighbor in G[current]:\n",
        "                    if neighbor not in path:  # Neu chua tham dinh ke\n",
        "                        s_open.append(neighbor)\n",
        "                        path[neighbor] = current\n",
        "    return path\n",
        "# Goi ham\n",
        "path = DFS(ADJ, \"A\", \"B\")\n",
        "pprint.pprint(path)"
      ],
      "metadata": {
        "colab": {
          "base_uri": "https://localhost:8080/"
        },
        "id": "wa5tPTuh3kM1",
        "outputId": "47dcf60c-995c-4804-8ae8-a49569ac8b03"
      },
      "execution_count": 27,
      "outputs": [
        {
          "output_type": "stream",
          "name": "stdout",
          "text": [
            "{'A': None,\n",
            " 'B': 'I',\n",
            " 'C': 'A',\n",
            " 'D': 'A',\n",
            " 'E': 'A',\n",
            " 'F': 'A',\n",
            " 'G': 'F',\n",
            " 'I': 'F',\n",
            " 'K': 'I'}\n"
          ]
        }
      ]
    }
  ]
}